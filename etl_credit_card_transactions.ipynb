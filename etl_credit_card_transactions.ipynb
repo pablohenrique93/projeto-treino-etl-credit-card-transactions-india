{
  "nbformat": 4,
  "nbformat_minor": 0,
  "metadata": {
    "colab": {
      "provenance": [],
      "toc_visible": true,
      "authorship_tag": "ABX9TyNSUAuJw7aRw08SQCZ4iMeh",
      "include_colab_link": true
    },
    "kernelspec": {
      "name": "python3",
      "display_name": "Python 3"
    },
    "language_info": {
      "name": "python"
    }
  },
  "cells": [
    {
      "cell_type": "markdown",
      "metadata": {
        "id": "view-in-github",
        "colab_type": "text"
      },
      "source": [
        "<a href=\"https://colab.research.google.com/github/pablohenrique93/projeto-treino-etl-credit-card-transactions-india/blob/main/etl_credit_card_transactions.ipynb\" target=\"_parent\"><img src=\"https://colab.research.google.com/assets/colab-badge.svg\" alt=\"Open In Colab\"/></a>"
      ]
    },
    {
      "cell_type": "markdown",
      "source": [
        "# Instalação das Bibliotecas"
      ],
      "metadata": {
        "id": "316W0ZlLcv3Z"
      }
    },
    {
      "cell_type": "code",
      "execution_count": null,
      "metadata": {
        "id": "vYxbs8eKcGst"
      },
      "outputs": [],
      "source": [
        "pip install pandera"
      ]
    },
    {
      "cell_type": "code",
      "source": [
        "pip install pymongo"
      ],
      "metadata": {
        "id": "tgeAXC4LemRI"
      },
      "execution_count": null,
      "outputs": []
    },
    {
      "cell_type": "markdown",
      "source": [
        "#Importação das Bibliotecas"
      ],
      "metadata": {
        "id": "P7JpCTJNdrUB"
      }
    },
    {
      "cell_type": "code",
      "source": [
        "import pandas as pd\n",
        "import os\n",
        "import pandas as pd\n",
        "import numpy as np\n",
        "import pymongo\n",
        "from pymongo import MongoClient"
      ],
      "metadata": {
        "id": "g52yItrldqxR"
      },
      "execution_count": null,
      "outputs": []
    },
    {
      "cell_type": "code",
      "source": [
        "# Importação de Bibliotecas para Visualização de Dados\n",
        "import seaborn as sns\n",
        "import matplotlib.pyplot as plt\n",
        "import plotly.express as px"
      ],
      "metadata": {
        "id": "2Uzufyaf5Fol"
      },
      "execution_count": null,
      "outputs": []
    },
    {
      "cell_type": "markdown",
      "source": [
        "# Carregamento da Base de Dados"
      ],
      "metadata": {
        "id": "qrms7qKvew10"
      }
    },
    {
      "cell_type": "code",
      "source": [
        "df = pd.read_csv('/content/Credit card transactions - India - Simple.csv')"
      ],
      "metadata": {
        "id": "3GfZJ3GAeuUb"
      },
      "execution_count": null,
      "outputs": []
    },
    {
      "cell_type": "code",
      "source": [
        "# Exibindo o dataframe\n",
        "df"
      ],
      "metadata": {
        "id": "hFWEkdQse_ao"
      },
      "execution_count": null,
      "outputs": []
    },
    {
      "cell_type": "markdown",
      "source": [
        "# Backup do Dataframe"
      ],
      "metadata": {
        "id": "Ad7r6vrefYHJ"
      }
    },
    {
      "cell_type": "code",
      "source": [
        "# Faz-se necessário realizar um backup do dataframe carregado antes de qualquer manipulação de dados, em caso de algum erro\n",
        "# nos processos posteriores, os dados estarão assegurados\n",
        "backup_df = df.copy"
      ],
      "metadata": {
        "id": "fSNIeYhOfcPB"
      },
      "execution_count": null,
      "outputs": []
    },
    {
      "cell_type": "markdown",
      "source": [
        "# Pré Análise do Dataframe"
      ],
      "metadata": {
        "id": "2271jJ9igC0h"
      }
    },
    {
      "cell_type": "code",
      "source": [
        "# Exibindo as 10 primeiras linhas do dataframe\n",
        "df.head(10)"
      ],
      "metadata": {
        "id": "a8YNIfq1gBVK"
      },
      "execution_count": null,
      "outputs": []
    },
    {
      "cell_type": "code",
      "source": [
        "# Exibindo as 10 últimas linhas do dataframe\n",
        "df.tail(10)"
      ],
      "metadata": {
        "id": "ayVkOyEwgSd5"
      },
      "execution_count": null,
      "outputs": []
    },
    {
      "cell_type": "code",
      "source": [
        "#Verificando os tipos das colunas do dataframe\n",
        "df.dtypes"
      ],
      "metadata": {
        "id": "NV5BEEcGgXIw"
      },
      "execution_count": null,
      "outputs": []
    },
    {
      "cell_type": "code",
      "source": [
        "# Verificando o tamanho do Dataframe\n",
        "df.shape"
      ],
      "metadata": {
        "id": "SL1xIebMgbzZ"
      },
      "execution_count": null,
      "outputs": []
    },
    {
      "cell_type": "markdown",
      "source": [
        "# Tratamento da Base de Dados"
      ],
      "metadata": {
        "id": "ebqCe4owg1Pi"
      }
    },
    {
      "cell_type": "code",
      "source": [
        "#Verificação das colunas com o objetivo de encontrar inconsistências\n",
        "pd.unique(df['City'])"
      ],
      "metadata": {
        "id": "VbtQgWf9iTVi"
      },
      "execution_count": null,
      "outputs": []
    },
    {
      "cell_type": "code",
      "source": [
        "pd.unique(df['Date'])"
      ],
      "metadata": {
        "id": "uOiIO2TEjB3J"
      },
      "execution_count": null,
      "outputs": []
    },
    {
      "cell_type": "code",
      "source": [
        "pd.unique(df['Card Type'])"
      ],
      "metadata": {
        "id": "Ua70jg5ImDup"
      },
      "execution_count": null,
      "outputs": []
    },
    {
      "cell_type": "code",
      "source": [
        "pd.unique(df['Exp Type'])"
      ],
      "metadata": {
        "id": "ucHSHZ96mcQK"
      },
      "execution_count": null,
      "outputs": []
    },
    {
      "cell_type": "code",
      "source": [
        "pd.unique(df['Gender'])"
      ],
      "metadata": {
        "id": "t60iwi34mirq"
      },
      "execution_count": null,
      "outputs": []
    },
    {
      "cell_type": "code",
      "source": [
        "pd.unique(df['Amount'])"
      ],
      "metadata": {
        "id": "7xyLwnQtmnuM"
      },
      "execution_count": null,
      "outputs": []
    },
    {
      "cell_type": "markdown",
      "source": [
        "# Limpeza de Inconsistências e Padronização de Colunas"
      ],
      "metadata": {
        "id": "jsSQ0urkmwoL"
      }
    },
    {
      "cell_type": "code",
      "source": [
        "df.dtypes"
      ],
      "metadata": {
        "id": "Jm7ozk2LoWCi"
      },
      "execution_count": null,
      "outputs": []
    },
    {
      "cell_type": "code",
      "source": [
        "# Renomeação e tradução de colunas, utilizando a fonte dos dados como parâmetro de tradução\n",
        "# Procedimento realizado com o objetivo de facilitar a compreensão dos registros\n",
        "\n",
        "df.rename(columns={\n",
        "    'City':'cidade_india',\n",
        "    'Date':'data',\n",
        "    'Card Type':'tipo_cartao',\n",
        "    'Exp Type':'tipo_despesa',\n",
        "    'Gender':'genero_titular',\n",
        "    'Amount':'valor'\n",
        "},inplace=True)"
      ],
      "metadata": {
        "id": "SGGCWU-imyla"
      },
      "execution_count": null,
      "outputs": []
    },
    {
      "cell_type": "code",
      "source": [
        "# Conferindo dataframe após manipulação\n",
        "df"
      ],
      "metadata": {
        "id": "vUzVxU1Zqp1O"
      },
      "execution_count": null,
      "outputs": []
    },
    {
      "cell_type": "code",
      "source": [
        "# Como exibido anteriormente os dados deste dataset são exclusivamente da Índia\n",
        "# A coluna 'cidade_india', por sua vez, possui o termo 'India' ao lado de cada registro de cidade, se fazendo desnecessário.\n",
        "# Neste caso droparemos este termo dos registros, para que a coluna permaneça somente com o nome da cidade, padronizando a mesma \n",
        "\n",
        "df['cidade_india'] = df['cidade_india'].str.replace(', India', '')"
      ],
      "metadata": {
        "id": "Sxj0Bqc9rPjN"
      },
      "execution_count": null,
      "outputs": []
    },
    {
      "cell_type": "code",
      "source": [
        "# Convertendo o tipo da coluna Data, de String para Date\n",
        "df['data'] = pd.to_datetime(df['data'], format='%d-%b-%y')"
      ],
      "metadata": {
        "id": "EFaoKnjQvuIU"
      },
      "execution_count": null,
      "outputs": []
    },
    {
      "cell_type": "code",
      "source": [
        "# Exibindo o dataframe após alteração\n",
        "df"
      ],
      "metadata": {
        "id": "7t0yvVvRyC6T"
      },
      "execution_count": null,
      "outputs": []
    },
    {
      "cell_type": "code",
      "source": [
        "# Renomeando e traduzindo registros da coluna 'tipo_despesa' \n",
        "df.replace({'tipo_despesa':'Bills'}, 'contas',regex=True, inplace=True)  \n",
        "df.replace({'tipo_despesa':'Food'}, 'alimentacao',regex=True, inplace=True)  \n",
        "df.replace({'tipo_despesa':'Entertainment'}, 'entretenimento',regex=True, inplace=True)\n",
        "df.replace({'tipo_despesa':'Grocery'}, 'mercado',regex=True, inplace=True)    \n",
        "df.replace({'tipo_despesa':'Fuel'}, 'combustivel',regex=True, inplace=True)\n",
        "df.replace({'tipo_despesa':'Travel'}, 'viagem',regex=True, inplace=True)"
      ],
      "metadata": {
        "id": "ik-kGq-4zngD"
      },
      "execution_count": null,
      "outputs": []
    },
    {
      "cell_type": "code",
      "source": [
        "#Exibindo o dataframe após alteração\n",
        "df"
      ],
      "metadata": {
        "id": "yr7_buGM2OUX"
      },
      "execution_count": null,
      "outputs": []
    },
    {
      "cell_type": "code",
      "source": [
        "# Verificando se o dataframe possui dados faltantes, ou seja, nulls\n",
        "df.isnull().sum()\n",
        "# Como verificado, o dataframe não possui dados faltantes"
      ],
      "metadata": {
        "id": "U8EUE-zX26rP"
      },
      "execution_count": null,
      "outputs": []
    },
    {
      "cell_type": "code",
      "source": [
        "# Verificando a existência de dados duplicados\n",
        "duplicados = df.duplicated()\n",
        "num_duplicados = duplicados.sum()\n",
        "print(num_duplicados)\n",
        "# Como podemos observar, não existe linhas duplicadas neste dataframe"
      ],
      "metadata": {
        "id": "uXPqOcII3vOb"
      },
      "execution_count": null,
      "outputs": []
    },
    {
      "cell_type": "markdown",
      "source": [
        "# Visualização de Dados, Insights, Plots, Groupbys"
      ],
      "metadata": {
        "id": "UodBymGT40ww"
      }
    },
    {
      "cell_type": "code",
      "source": [
        "# Groupby para verificação da quantidade de gêneros de cada titular do cartão\n",
        "df.groupby(['genero_titular']).size().sort_values(ascending=False)\n",
        "# Como podemos observar, temos mais mulheres do que homens"
      ],
      "metadata": {
        "id": "PEIWxjGe4cSE"
      },
      "execution_count": null,
      "outputs": []
    },
    {
      "cell_type": "code",
      "source": [
        "# Plot seaborn para visualização dos registros anteriores, o \";\" é utilizado no final do código para exibir um gráfico \"mais limpo\"\n",
        "sns.countplot(x=df['genero_titular']);"
      ],
      "metadata": {
        "id": "vVUh2nhW7Lut"
      },
      "execution_count": null,
      "outputs": []
    },
    {
      "cell_type": "code",
      "source": [
        "# Groupby com auxílio de Plot para verificação dos maiores gastos registrados neste dataframe\n",
        "df.groupby(['tipo_despesa']).size().head(10).sort_values(ascending=False).plot.bar(xlabel='tipo_despesa', ylabel = 'quantidade', rot=90);\n",
        "# Como podemos observar, os maiores gastos foram com alimentação, seguido de combustível e contas"
      ],
      "metadata": {
        "id": "nQz9-yBP6Zot"
      },
      "execution_count": null,
      "outputs": []
    },
    {
      "cell_type": "code",
      "source": [
        "df.groupby(['data']).size().sort_values(ascending=False)"
      ],
      "metadata": {
        "id": "OXo5xZma_Bwf"
      },
      "execution_count": null,
      "outputs": []
    },
    {
      "cell_type": "code",
      "source": [
        "# Plotagem dos tipos de despesa por gênero do titular do cartão\n",
        "grafico = px.treemap(df, path=['tipo_despesa', 'genero_titular']);\n",
        "grafico.show()\n",
        "# Como podemos observar, a mulheres lideram em gastos por tipo de despesa, ficando atrás somente no gasto em combustível"
      ],
      "metadata": {
        "id": "dhJgxU5S8Yid"
      },
      "execution_count": null,
      "outputs": []
    },
    {
      "cell_type": "code",
      "source": [
        "# Plotagem por cidade, tipo do cartão, gênero do titular e valor gasto\n",
        "grafico = px.treemap(df, path=['cidade_india', 'tipo_cartao', 'genero_titular', 'valor']);\n",
        "grafico.show() \n",
        "# É possível notar que as maiores incidências de gastos ocorrem nas cidades de Bengaluru, Greater Mumbai e Ahmedabad"
      ],
      "metadata": {
        "id": "ehwmyPAb9fHG"
      },
      "execution_count": null,
      "outputs": []
    },
    {
      "cell_type": "code",
      "source": [
        "# Plot dos cartões mais utilizados neste período\n",
        "sns.countplot(x=df['tipo_cartao']);\n",
        "# Podemos observar que os três mais utilizados foram o Silver, Signature e Platinum"
      ],
      "metadata": {
        "id": "9GynOR9K2myA"
      },
      "execution_count": null,
      "outputs": []
    },
    {
      "cell_type": "code",
      "source": [
        "# Cálculo do valor total gasto por 'genero_titular' usando o método groupby e sum:\n",
        "df_genero_valor = df.groupby('genero_titular')['valor'].sum().reset_index()\n",
        "# Plot do valor total gasto por gênero\n",
        "sns.barplot(x='genero_titular', y='valor', data=df_genero_valor);\n",
        "# É possível confirmar através desta soma, que as mulheres consumiram mais do que os homens neste período"
      ],
      "metadata": {
        "id": "MNNAs0Jj8bjw"
      },
      "execution_count": null,
      "outputs": []
    },
    {
      "cell_type": "code",
      "source": [
        "# Plot para verificação das datas em que mais ocorreram maiores índices de gasto\n",
        "fig = px.bar(df,x=\"data\", y=\"valor\", title='Índices de Datas e seus Respectivos Volumes de Gastos')\n",
        "fig.show()\n",
        "# Podemos notar que as datas em que mais ocorreram gastos foram em 07/10/2014, 20/09/2014 e 11/08/2014"
      ],
      "metadata": {
        "id": "XIbXnh07CVvO"
      },
      "execution_count": null,
      "outputs": []
    },
    {
      "cell_type": "markdown",
      "source": [
        "# Preparação dos Arquivos"
      ],
      "metadata": {
        "id": "XDe_KKLdFPxi"
      }
    },
    {
      "cell_type": "code",
      "source": [
        "# Salvando dataset tratado localmente, em formato 'csv'\n",
        "\n",
        "df.to_csv('credit_card_transactions_india_treated.csv', index=False)"
      ],
      "metadata": {
        "id": "ExDVMRqXFIMK"
      },
      "execution_count": null,
      "outputs": []
    },
    {
      "cell_type": "markdown",
      "source": [
        "#Envio para o MongoDB"
      ],
      "metadata": {
        "id": "6fx4uJ6bF1Rg"
      }
    },
    {
      "cell_type": "code",
      "source": [
        "# Criando conexão com o MongoDB\n",
        "\n",
        "uri = 'mongo_uri'\n",
        "client = MongoClient(uri,tls=True,tlsCertificateKeyFile='mongokey')"
      ],
      "metadata": {
        "id": "Zhp8DVg1F62g"
      },
      "execution_count": null,
      "outputs": []
    },
    {
      "cell_type": "code",
      "source": [
        "# Criando coleção para enviar para o MongoDB\n",
        "\n",
        "db = client['credit_india']\n",
        "colecaotreated = db['credit_card_india_transactions_treated']"
      ],
      "metadata": {
        "id": "P6n9gb6oGTeD"
      },
      "execution_count": null,
      "outputs": []
    },
    {
      "cell_type": "code",
      "source": [
        "# Enviando o Dataset tratado para o MongoDB\n",
        "\n",
        "df.reset_index(drop=True)\n",
        "df01 = df.to_dict(\"records\")\n",
        "colecaotreated.insert_many(df01)"
      ],
      "metadata": {
        "id": "hMvj5_xWHIT4"
      },
      "execution_count": null,
      "outputs": []
    },
    {
      "cell_type": "code",
      "source": [
        "# Verificando se o arquivo foi enviado com sucesso\n",
        "colecaotreated.count_documents({})\n",
        "# Como podemos conferir o dataset foi enviado corretamente para o MongoDB"
      ],
      "metadata": {
        "id": "eJ0MO_kTJlDc"
      },
      "execution_count": null,
      "outputs": []
    },
    {
      "cell_type": "markdown",
      "source": [
        "#FIM DO PROCESSO"
      ],
      "metadata": {
        "id": "MmDjoKUeJ9CO"
      }
    }
  ]
}